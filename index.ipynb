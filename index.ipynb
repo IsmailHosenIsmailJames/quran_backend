{
 "cells": [
  {
   "cell_type": "markdown",
   "metadata": {},
   "source": [
    "<h1> Welcome To Quran Backend Reference </h1>\n",
    "<p>This is the backend of my My Android App <strong>(Al Bayan Quran)</strong>\n",
    "<br><br>\n",
    "As I start to develop my app, I understand that I should not depends on different servers for deferents resources. Because it causes so many problems. They can Change Their settings any time.\n",
    "<br>\n",
    "<br>\n",
    "So, I need to develop my own backend server for those resources. I can get a lot of benifits if I have my own server. I have compresses my data as possible as it can. An I have optimized my data for large scale uses.\n",
    "</p>\n",
    "<br>\n",
    "<h3><strong> Here is reference for every possible request</Strong> </h3>\n"
   ]
  },
  {
   "cell_type": "markdown",
   "metadata": {},
   "source": [
    "# Get Juzs information of Quran"
   ]
  },
  {
   "cell_type": "markdown",
   "metadata": {},
   "source": [
    "<strong>URL : </strong> base + /juzs"
   ]
  },
  {
   "cell_type": "markdown",
   "metadata": {},
   "source": [
    "### Python code"
   ]
  },
  {
   "cell_type": "code",
   "execution_count": 27,
   "metadata": {},
   "outputs": [
    {
     "name": "stdout",
     "output_type": "stream",
     "text": [
      "{\n",
      "  \"juzs\": [\n",
      "    {\n",
      "      \"first_verse_id\": 1,\n",
      "      \"id\": 1,\n",
      "      \"juz_number\": 1,\n",
      "      \"last_verse_id\": 148,\n",
      "      \"verse_mapping\": {\n",
      "        \"1\": \"1-7\",\n",
      "        \"2\": \"1-141\"\n",
      "      },\n",
      "      \"verses_count\": 148\n",
      "    },\n",
      "    {\n",
      "      \"first_verse_id\": 149,\n",
      "      \"id\": 2,\n",
      "      \"juz_number\": 2,\n",
      "      \"last_verse_id\": 259,\n",
      "      \"verse_mapping\": {\n",
      "        \"2\": \"142-252\"\n",
      "      },\n",
      "      \"verses_count\":...\n"
     ]
    }
   ],
   "source": [
    "import requests\n",
    "\n",
    "baseURL = \"http://localhost:3000/\"\n",
    "url = baseURL + \"juzs/\"\n",
    "\n",
    "payload={}\n",
    "headers = {\n",
    "  'Accept': 'application/json'\n",
    "}\n",
    "\n",
    "response = requests.request(\"GET\", url, headers=headers, data=payload)\n",
    "\n",
    "print(response.text[:400] + \"...\")"
   ]
  },
  {
   "cell_type": "markdown",
   "metadata": {},
   "source": [
    "### Get Language Information"
   ]
  },
  {
   "cell_type": "code",
   "execution_count": 28,
   "metadata": {},
   "outputs": [
    {
     "name": "stdout",
     "output_type": "stream",
     "text": [
      "{\n",
      "  \"languages\": [\n",
      "    {\n",
      "      \"direction\": \"ltr\",\n",
      "      \"id\": 38,\n",
      "      \"iso_code\": \"en\",\n",
      "      \"name\": \"English\",\n",
      "      \"native_name\": \"English\",\n",
      "      \"translated_name\": {\n",
      "        \"language_name\": \"english\",\n",
      "        \"name\": \"English\"\n",
      "      },\n",
      "      \"translations_count\": 19\n",
      "    },\n",
      "    {\n",
      "      \"direction\": \"rtl\",\n",
      "      \"id\": 174,\n",
      "      \"iso_code\": \"ur\",\n",
      "      \"name\": \"Urdu\",\n",
      "      \"native_name\": ...\n"
     ]
    }
   ],
   "source": [
    "import requests\n",
    "\n",
    "baseURL = \"http://localhost:3000/\"\n",
    "url = baseURL + \"languages/\"\n",
    "\n",
    "payload={}\n",
    "headers = {\n",
    "  'Accept': 'application/json'\n",
    "}\n",
    "\n",
    "response = requests.request(\"GET\", url, headers=headers, data=payload)\n",
    "\n",
    "print(response.text[:400] + \"...\")"
   ]
  },
  {
   "cell_type": "markdown",
   "metadata": {},
   "source": [
    "### Get Chapters"
   ]
  },
  {
   "cell_type": "code",
   "execution_count": 29,
   "metadata": {},
   "outputs": [
    {
     "name": "stdout",
     "output_type": "stream",
     "text": [
      "{\n",
      "  \"chapters\": [\n",
      "    {\n",
      "      \"bismillah_pre\": false,\n",
      "      \"id\": 1,\n",
      "      \"name_arabic\": \"\\u0627\\u0644\\u0641\\u0627\\u062a\\u062d\\u0629\",\n",
      "      \"name_complex\": \"Al-F\\u0101ti\\u0125ah\",\n",
      "      \"name_simple\": \"Al-Fatihah\",\n",
      "      \"pages\": [\n",
      "        1,\n",
      "        1\n",
      "      ],\n",
      "      \"revelation_order\": 5,\n",
      "      \"revelation_place\": \"makkah\",\n",
      "      \"translated_name\": {\n",
      "        \"language_name\": \"english\",\n",
      "        ...\n"
     ]
    }
   ],
   "source": [
    "import requests\n",
    "\n",
    "baseURL = \"http://localhost:3000/\"\n",
    "url = baseURL + \"chapters/\"\n",
    "\n",
    "payload={}\n",
    "headers = {\n",
    "  'Accept': 'application/json'\n",
    "}\n",
    "\n",
    "response = requests.request(\"GET\", url, headers=headers, data=payload)\n",
    "\n",
    "print(response.text[:400] + \"...\")"
   ]
  },
  {
   "cell_type": "markdown",
   "metadata": {},
   "source": [
    "### Get Chapters Information"
   ]
  },
  {
   "cell_type": "code",
   "execution_count": 30,
   "metadata": {},
   "outputs": [
    {
     "name": "stdout",
     "output_type": "stream",
     "text": [
      "{\n",
      "  \"chapter_infos\": [\n",
      "    {\n",
      "      \"author_name\": \"Hamza Roberto Piccardo\",\n",
      "      \"id\": 155,\n",
      "      \"language_name\": \"italian\",\n",
      "      \"name\": \"Hamza Roberto Piccardo\",\n",
      "      \"slug\": \"hamza-roberto-piccardo-info\",\n",
      "      \"translated_name\": {\n",
      "        \"language_name\": \"english\",\n",
      "        \"name\": \"Hamza Roberto Piccardo\"\n",
      "      }\n",
      "    },\n",
      "    {\n",
      "      \"author_name\": \"Sayyid Abul Ala Maududi\",\n",
      "      \"id\": 58,...\n"
     ]
    }
   ],
   "source": [
    "import requests\n",
    "\n",
    "baseURL = \"http://localhost:3000/\"\n",
    "url = baseURL + \"chapter_infos/\"\n",
    "\n",
    "payload={}\n",
    "headers = {\n",
    "  'Accept': 'application/json'\n",
    "}\n",
    "\n",
    "response = requests.request(\"GET\", url, headers=headers, data=payload)\n",
    "\n",
    "print(response.text[:400] + \"...\")"
   ]
  },
  {
   "cell_type": "markdown",
   "metadata": {},
   "source": [
    "### Get list of tafseer id list"
   ]
  },
  {
   "cell_type": "code",
   "execution_count": 31,
   "metadata": {},
   "outputs": [
    {
     "name": "stdout",
     "output_type": "stream",
     "text": [
      "{\n",
      "    \"list\": [\n",
      "        \"160\",\n",
      "        \"164\",\n",
      "        \"14\",\n",
      "        \"157\",\n",
      "        \"170\",\n",
      "        \"165\",\n",
      "        \"804\",\n",
      "        \"169\",\n",
      "        \"16\",\n",
      "        \"93\",\n",
      "        \"91\",\n",
      "        \"90\",\n",
      "        \"15\",\n",
      "        \"381\",\n",
      "        \"92\",\n",
      "        \"166\",\n",
      "        \"168\",\n",
      "        \"94\",\n",
      "        \"159\"\n",
      "    ]\n",
      "}...\n"
     ]
    }
   ],
   "source": [
    "import requests\n",
    "\n",
    "baseURL = \"http://localhost:3000/\"\n",
    "url = baseURL + \"list_of_resource_tafseer/\"\n",
    "\n",
    "payload={}\n",
    "headers = {\n",
    "  'Accept': 'application/json'\n",
    "}\n",
    "\n",
    "response = requests.request(\"GET\", url, headers=headers, data=payload)\n",
    "\n",
    "print(response.text[:400] + \"...\")"
   ]
  },
  {
   "cell_type": "markdown",
   "metadata": {},
   "source": [
    "### Get tafsirs information"
   ]
  },
  {
   "cell_type": "code",
   "execution_count": 32,
   "metadata": {},
   "outputs": [
    {
     "name": "stdout",
     "output_type": "stream",
     "text": [
      "{\n",
      "  \"tafsirs\": [\n",
      "    {\n",
      "      \"author_name\": \"AbdulRahman Bin Hasan Al-Alshaikh\",\n",
      "      \"id\": 381,\n",
      "      \"language_name\": \"bengali\",\n",
      "      \"name\": \"Tafsir Fathul Majid\",\n",
      "      \"slug\": \"tafisr-fathul-majid-bn\",\n",
      "      \"translated_name\": {\n",
      "        \"language_name\": \"english\",\n",
      "        \"name\": \"Tafsir Fathul Majid\"\n",
      "      }\n",
      "    },\n",
      "    {\n",
      "      \"author_name\": \"Hafiz Ibn Kathir\",\n",
      "      \"id\": 169,\n",
      "      \"lang...\n"
     ]
    }
   ],
   "source": [
    "import requests\n",
    "\n",
    "baseURL = \"http://localhost:3000/\"\n",
    "url = baseURL + \"tafsirs/\"\n",
    "\n",
    "payload={}\n",
    "headers = {\n",
    "  'Accept': 'application/json'\n",
    "}\n",
    "\n",
    "response = requests.request(\"GET\", url, headers=headers, data=payload)\n",
    "\n",
    "print(response.text[:400] + \"...\")"
   ]
  },
  {
   "cell_type": "markdown",
   "metadata": {},
   "source": [
    "### Get Translation Of Information of Quran"
   ]
  },
  {
   "cell_type": "code",
   "execution_count": 33,
   "metadata": {},
   "outputs": [
    {
     "name": "stdout",
     "output_type": "stream",
     "text": [
      "{\n",
      "  \"translations\": [\n",
      "    {\n",
      "      \"id\": 131,\n",
      "      \"name\": \"Dr. Mustafa Khattab, the Clear Quran\",\n",
      "      \"author_name\": \"Dr. Mustafa Khattab\",\n",
      "      \"slug\": \"clearquran-with-tafsir\",\n",
      "      \"language_name\": \"english\",\n",
      "      \"translated_name\": {\n",
      "        \"name\": \"Dr. Mustafa Khattab\",\n",
      "        \"language_name\": \"english\"\n",
      "      }\n",
      "    },\n",
      "    {\n",
      "      \"id\": 149,\n",
      "      \"name\": \"Fadel Soliman, Bridges\\u2019 ...\n"
     ]
    }
   ],
   "source": [
    "import requests\n",
    "\n",
    "baseURL = \"http://localhost:3000/\"\n",
    "url = baseURL + \"translations/\"\n",
    "\n",
    "payload={}\n",
    "headers = {\n",
    "  'Accept': 'application/json'\n",
    "}\n",
    "\n",
    "response = requests.request(\"GET\", url, headers=headers, data=payload)\n",
    "\n",
    "print(response.text[:400] + \"...\")"
   ]
  },
  {
   "cell_type": "markdown",
   "metadata": {},
   "source": []
  },
  {
   "cell_type": "markdown",
   "metadata": {},
   "source": [
    "### Get Quran Text"
   ]
  },
  {
   "cell_type": "markdown",
   "metadata": {},
   "source": [
    "List of Types of text:\n"
   ]
  },
  {
   "cell_type": "markdown",
   "metadata": {},
   "source": [
    "<ul>\n",
    "  <li>imlaei_simple_text</li>\n",
    "  <li>indopak_script</li>\n",
    "  <li>uthmani_script</li>\n",
    "  <li>uthmani_simple</li>\n",
    "  <li>uthmani_tajweed</li>\n",
    "</ul>"
   ]
  },
  {
   "cell_type": "code",
   "execution_count": 34,
   "metadata": {},
   "outputs": [
    {
     "name": "stdout",
     "output_type": "stream",
     "text": [
      "{\"data\":\"H4sIAOj1tGUA/+y923JcSXIt+Cuwfj5mB/eLTNM/Mg9tVItH6jndpSOxNRrZsTFrAAkQBMnMBHSsSiqNacQCSSSTBEEQ4AX8ktzGt/mS2eHuETsiPCJ2eOTeAFhdJlN1FQlk7kuEh/vytZb/z1/9n/f/4cH9B7/6i//9f/7qd3/9q79Y+i/4J7/57/f/+Vd/8aulv1j61X/51R/v/19//M0//vFv/3Dvu9/95o/3/o9/un+//tFfzSbVeHZZHVd71XjhL+nPF377+3sPHvxvf3vvD7/5p3sPfv/r6uIv/yv91a+rQf1/R9Wwepj5C97P/P5e/UMP6p988Lt/vve39cc1Pzm7UB88O4OrGXq/94d7f/3X937z3d/9wx/u1Z//p+qddUn...\n"
     ]
    }
   ],
   "source": [
    "import requests\n",
    "\n",
    "baseURL = \"http://localhost:3000/\"\n",
    "url = baseURL + \"quran/uthmani_tajweed/\"\n",
    "\n",
    "payload={}\n",
    "headers = {\n",
    "  'Accept': 'application/json'\n",
    "}\n",
    "\n",
    "response = requests.request(\"GET\", url, headers=headers, data=payload)\n",
    "\n",
    "print(response.text[:400] + \"...\")"
   ]
  },
  {
   "cell_type": "markdown",
   "metadata": {},
   "source": [
    "<strong>NOTE : Here data has compressed using Gzip compression <Strong>"
   ]
  },
  {
   "cell_type": "markdown",
   "metadata": {},
   "source": [
    "### Get Translated Quran by ID"
   ]
  },
  {
   "cell_type": "code",
   "execution_count": 35,
   "metadata": {},
   "outputs": [
    {
     "name": "stdout",
     "output_type": "stream",
     "text": [
      "{\"data\":\"H4sIAFTutGUA/8y9244bSbIt+CssvRQDoBI4D4MZdOJAUF26U92tVu2Segu1R8DASTqT0RmMYMclWdwH8zgP57fm/NjYsotfgsFLqqo35qUqRQYjPNzNze2ybNn/eNW3ru4q15dN3b36w//5P161vmuGduX/r3L96g//7X9fvOr9r/2rP7x6V88+bf3sb27nZ81m9raq3HbBH9Gfr9/7dlVuhko++fHZt+Gju1f/9+L8bX9qXdn52dLP+ia96V+bdo3n9PT3oWmrdXf5Pr95ILj8p6brfNc1rT35B3fEnz80ze7yr39phllTV8fZupkdeMTdttwvZq5ez0bfLX3n/Wo729Bjtr7aX77xn4Zy7WdDNytrHlFHC1Y+bvvZT67f3vBGdJW...\n"
     ]
    }
   ],
   "source": [
    "import requests\n",
    "\n",
    "baseURL = \"http://localhost:3000/\"\n",
    "# 17 is transltion ID\n",
    "url = baseURL + \"translation/17/\"\n",
    "\n",
    "payload={}\n",
    "headers = {\n",
    "  'Accept': 'application/json'\n",
    "}\n",
    "\n",
    "response = requests.request(\"GET\", url, headers=headers, data=payload)\n",
    "\n",
    "print(response.text[:400] + \"...\")"
   ]
  },
  {
   "cell_type": "markdown",
   "metadata": {},
   "source": [
    "<strong>NOTE : Here data has compressed using Gzip compression <Strong>"
   ]
  },
  {
   "cell_type": "markdown",
   "metadata": {},
   "source": [
    "### Get Tafsser of Quran by ID"
   ]
  },
  {
   "cell_type": "code",
   "execution_count": 36,
   "metadata": {},
   "outputs": [
    {
     "name": "stdout",
     "output_type": "stream",
     "text": [
      "{\n",
      " \"0\": \"H4sIAMHatGUC/+1d6XIbR5J+lTZ/bkAIS/aMZ6lHc/gHSFzql3DIMAUQIglBJEXBTwK+zVbml2d1N0k5PI6d2I0JDwWgurqOrDy+POq4Od4+zo7rx+nj2ePycdo8Th7b5rg9rsqntnz+uTlyk1+axzNq1hxXx83jsjleHQ+Pk+O+OW2OF4/zhruYPi7o2QN/eNccPz2eH/flu8flcVse3x1vj1vqgF95/L38MqKPu+OmeZyXbltqOztel/92xzW9uXRWumofZ9wz9UEfpGfv6gP9XF56vC5fzOnVK55VaXlVnm2PB/pmIiOj1+qQqMkFv2KBuZcf7ss/Sn+bx0UZRGm0oWlrPzQUfudW+6GVmNK41zIZeZiazmmo08dzakcz4XlclI7...\n"
     ]
    }
   ],
   "source": [
    "import requests\n",
    "\n",
    "baseURL = \"http://localhost:3000/\"\n",
    "# 15 is transltion ID\n",
    "url = baseURL + \"tafseer/15/\"\n",
    "\n",
    "payload={}\n",
    "headers = {\n",
    "  'Accept': 'application/json'\n",
    "}\n",
    "\n",
    "response = requests.request(\"GET\", url, headers=headers, data=payload)\n",
    "\n",
    "print(response.text[:400] + \"...\")"
   ]
  },
  {
   "cell_type": "markdown",
   "metadata": {},
   "source": [
    "<strong>NOTE : Here data has compressed using Gzip compression <Strong>"
   ]
  }
 ],
 "metadata": {
  "kernelspec": {
   "display_name": "base",
   "language": "python",
   "name": "python3"
  },
  "language_info": {
   "codemirror_mode": {
    "name": "ipython",
    "version": 3
   },
   "file_extension": ".py",
   "mimetype": "text/x-python",
   "name": "python",
   "nbconvert_exporter": "python",
   "pygments_lexer": "ipython3",
   "version": "3.11.5"
  }
 },
 "nbformat": 4,
 "nbformat_minor": 2
}
